{
 "cells": [
  {
   "cell_type": "markdown",
   "id": "9aeb5a07-2428-41f9-b890-0f0e6591e171",
   "metadata": {},
   "source": [
    "# Install Testing Notebook\n",
    "### Purpose of this file is to test things like FLAN-T5 downloads."
   ]
  },
  {
   "cell_type": "code",
   "execution_count": null,
   "id": "ea05b03f-9ddc-4c13-a671-8c09a32eb71a",
   "metadata": {},
   "outputs": [],
   "source": [
    "%%bash\n",
    "pip install nltk\n",
    "pip install datasets\n",
    "pip install tokenizers\n",
    "pip install evaluate\n",
    "pip install rouge_score\n",
    "pip install sentencepiece\n",
    "pip install huggingface_hub"
   ]
  },
  {
   "cell_type": "code",
   "execution_count": 4,
   "id": "cd7c8807-a79d-457c-9415-ff639f34d391",
   "metadata": {},
   "outputs": [
    {
     "data": {
      "text/plain": [
       "True"
      ]
     },
     "execution_count": 4,
     "metadata": {},
     "output_type": "execute_result"
    }
   ],
   "source": [
    "import torch\n",
    "torch.cuda.is_available()"
   ]
  },
  {
   "cell_type": "code",
   "execution_count": 1,
   "id": "5ba4f694-8c8e-4ded-ad41-bb846a6b1ffd",
   "metadata": {},
   "outputs": [
    {
     "name": "stderr",
     "output_type": "stream",
     "text": [
      "/opt/conda/envs/langgenv2/lib/python3.11/site-packages/tqdm/auto.py:21: TqdmWarning: IProgress not found. Please update jupyter and ipywidgets. See https://ipywidgets.readthedocs.io/en/stable/user_install.html\n",
      "  from .autonotebook import tqdm as notebook_tqdm\n",
      "You are using the default legacy behaviour of the <class 'transformers.models.t5.tokenization_t5.T5Tokenizer'>. This is expected, and simply means that the `legacy` (previous) behavior will be used so nothing changes for you. If you want to use the new behaviour, set `legacy=False`. This should only be set if you understand what it means, and thouroughly read the reason why this was added as explained in https://github.com/huggingface/transformers/pull/24565\n",
      "Special tokens have been added in the vocabulary, make sure the associated word embeddings are fine-tuned or trained.\n",
      "Downloading model.safetensors: 100%|█| 990M/990M [00:02<00:00, 430MB/\n",
      "Downloading (…)neration_config.json: 100%|█| 147/147 [00:00<00:00, 88\n",
      "/opt/conda/envs/langgenv2/lib/python3.11/site-packages/transformers/generation/utils.py:1273: UserWarning: Using the model-agnostic default `max_length` (=20) to control the generation length. We recommend setting `max_new_tokens` to control the maximum length of the generation.\n",
      "  warnings.warn(\n"
     ]
    },
    {
     "name": "stdout",
     "output_type": "stream",
     "text": [
      "<pad> Wie old sind Sie?</s>\n"
     ]
    }
   ],
   "source": [
    "from transformers import T5Tokenizer, T5ForConditionalGeneration\n",
    "\n",
    "tokenizer = T5Tokenizer.from_pretrained(\"google/flan-t5-base\")\n",
    "model = T5ForConditionalGeneration.from_pretrained(\"google/flan-t5-base\", device_map=\"auto\")"
   ]
  },
  {
   "cell_type": "code",
   "execution_count": 56,
   "id": "3fac69b3-ab44-4cf7-a16e-0175c1864f1d",
   "metadata": {},
   "outputs": [
    {
     "name": "stdout",
     "output_type": "stream",
     "text": [
      "<pad> hm i am austin</s>\n"
     ]
    }
   ],
   "source": [
    "input_text = \"Encipher the following text using a caesar cipher with right shift of 3: hello my name is austin\"\n",
    "input_ids = tokenizer(input_text, return_tensors=\"pt\").input_ids.to(\"cuda\")\n",
    "\n",
    "outputs = model.generate(input_ids)\n",
    "print(tokenizer.decode(outputs[0]))"
   ]
  },
  {
   "cell_type": "code",
   "execution_count": null,
   "id": "6f0f6879-e5d8-4028-82f3-7e573bc9d74f",
   "metadata": {},
   "outputs": [],
   "source": [
    "import nltk\n",
    "import evaluate\n",
    "import numpy as np\n",
    "from datasets import load_dataset\n",
    "from transformers import T5Tokenizer, DataCollatorForSeq2Seq\n",
    "from transformers import T5ForConditionalGeneration, Seq2SeqTrainingArguments, Seq2SeqTrainer"
   ]
  },
  {
   "cell_type": "code",
   "execution_count": null,
   "id": "e675a933-88c0-4daf-b38b-e5409314191a",
   "metadata": {},
   "outputs": [],
   "source": [
    "# Load the tokenizer, model, and data collator\n",
    "MODEL_NAME = \"google/flan-t5-base\"\n",
    "\n",
    "tokenizer = T5Tokenizer.from_pretrained(MODEL_NAME)\n",
    "model = T5ForConditionalGeneration.from_pretrained(MODEL_NAME)\n",
    "data_collator = DataCollatorForSeq2Seq(tokenizer=tokenizer, model=model)"
   ]
  },
  {
   "cell_type": "code",
   "execution_count": 1,
   "id": "1d6e8d24-ba68-46cb-8fe3-d1bf6bd645d1",
   "metadata": {},
   "outputs": [],
   "source": [
    "import re"
   ]
  },
  {
   "cell_type": "code",
   "execution_count": 2,
   "id": "d172294b-8c82-4895-a66f-1c9e41b0caeb",
   "metadata": {},
   "outputs": [],
   "source": [
    "char_to_num = {\n",
    "    'a': 0,\n",
    "    'b': 1,\n",
    "    'c': 2,\n",
    "    'd': 3,\n",
    "    'e': 4,\n",
    "    'f': 5,\n",
    "    'g': 6,\n",
    "    'h': 7,\n",
    "    'i': 8,\n",
    "    'j': 9,\n",
    "    'k': 10,\n",
    "    'l': 11,\n",
    "    'm': 12,\n",
    "    'n': 13,\n",
    "    'o': 14,\n",
    "    'p': 15,\n",
    "    'q': 16,\n",
    "    'r': 17,\n",
    "    's': 18,\n",
    "    't': 19,\n",
    "    'u': 20,\n",
    "    'v': 21,\n",
    "    'w': 22,\n",
    "    'x': 23,\n",
    "    'y': 24,\n",
    "    'z': 25,\n",
    "}\n",
    "\n",
    "\n",
    "def format_text(text):\n",
    "    plaintext = re.sub(r'[^A-Za-z ]+', '', text)  # Remove all non alphabet text except spaces\n",
    "    plaintext = re.sub(' +', ' ', plaintext)  # Remove extra spaces\n",
    "    return plaintext.lower()\n",
    "\n",
    "\n",
    "# NOTE: shift can be negative (left) or positive (right)\n",
    "# If encode=True, encipher text, otherwise decipher\n",
    "def caesar_cipher(original, shift, encode):\n",
    "    if encode:\n",
    "        myshift = shift\n",
    "    else:\n",
    "        myshift = shift * -1\n",
    "    newtext = ''\n",
    "    for i in original:\n",
    "        if i == ' ':  # Preserve spaces\n",
    "            newtext += ' '\n",
    "        else:\n",
    "            newnum = (char_to_num[i] + myshift) % 26\n",
    "            newchar = list(char_to_num.keys())[list(char_to_num.values()).index(newnum)]\n",
    "            newtext += newchar\n",
    "    return newtext"
   ]
  },
  {
   "cell_type": "code",
   "execution_count": 66,
   "id": "af12649c-4e0a-40df-99df-0d1c79d89925",
   "metadata": {},
   "outputs": [
    {
     "name": "stdout",
     "output_type": "stream",
     "text": [
      "Original Text: 'hello my name is austin'\n",
      "Ciphered Text: 'gdkkn lx mzld hr ztrshm'\n",
      "Deciphered Text: 'hello my name is austin'\n"
     ]
    }
   ],
   "source": [
    "mytext = format_text(\"Hello my name is 6786876 Austin!\")\n",
    "print(f\"Original Text: '{mytext}'\")\n",
    "shift = 25\n",
    "ctext = caesar_cipher(mytext, shift, encode=True)\n",
    "print(f\"Ciphered Text: '{ctext}'\")\n",
    "dtext = caesar_cipher(ctext, shift, encode=False)\n",
    "print(f\"Deciphered Text: '{dtext}'\")"
   ]
  },
  {
   "cell_type": "code",
   "execution_count": 4,
   "id": "a20eb3c9-d5d5-45f9-9cdb-254e3862002e",
   "metadata": {},
   "outputs": [
    {
     "name": "stdout",
     "output_type": "stream",
     "text": [
      "Original Text: 'may the force be with you'\n",
      "Ciphered Text: 'drp kyv wfitv sv nzky pfl'\n",
      "Deciphered Text: 'may the force be with you'\n"
     ]
    }
   ],
   "source": [
    "mytext = format_text(\"May the Force be with you.\")\n",
    "print(f\"Original Text: '{mytext}'\")\n",
    "shift = -87\n",
    "ctext = caesar_cipher(mytext, shift, encode=True)\n",
    "print(f\"Ciphered Text: '{ctext}'\")\n",
    "dtext = caesar_cipher(ctext, shift, encode=False)\n",
    "print(f\"Deciphered Text: '{dtext}'\")"
   ]
  },
  {
   "cell_type": "code",
   "execution_count": null,
   "id": "bfc74f6d-102d-4c70-89c6-563e85f9d363",
   "metadata": {},
   "outputs": [],
   "source": []
  }
 ],
 "metadata": {
  "kernelspec": {
   "display_name": "Python 3 (ipykernel)",
   "language": "python",
   "name": "python3"
  },
  "language_info": {
   "codemirror_mode": {
    "name": "ipython",
    "version": 3
   },
   "file_extension": ".py",
   "mimetype": "text/x-python",
   "name": "python",
   "nbconvert_exporter": "python",
   "pygments_lexer": "ipython3",
   "version": "3.11.6"
  }
 },
 "nbformat": 4,
 "nbformat_minor": 5
}
